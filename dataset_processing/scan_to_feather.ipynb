{
 "cells": [
  {
   "cell_type": "code",
   "execution_count": 1,
   "outputs": [],
   "source": [
    "import pandas as pd\n",
    "df = pd.read_feather('dataframe.feather')\n",
    "images_folder = '/Volumes/Nathan_disk/DiabeticRetinopathyScreeningImageDatabase/Extracted'\n",
    "images_folder_small = '/Users/nathan/PycharmProjects/retinal/data'\n",
    "# df = df.head(320)"
   ],
   "metadata": {
    "collapsed": false,
    "pycharm": {
     "name": "#%%\n"
    }
   }
  },
  {
   "cell_type": "code",
   "execution_count": 2,
   "outputs": [
    {
     "data": {
      "text/plain": "                                                 filename\n0       /Volumes/Nathan_disk/DiabeticRetinopathyScreen...\n1       /Volumes/Nathan_disk/DiabeticRetinopathyScreen...\n2       /Volumes/Nathan_disk/DiabeticRetinopathyScreen...\n3       /Volumes/Nathan_disk/DiabeticRetinopathyScreen...\n4       /Volumes/Nathan_disk/DiabeticRetinopathyScreen...\n...                                                   ...\n119994  /Volumes/Nathan_disk/DiabeticRetinopathyScreen...\n119995  /Volumes/Nathan_disk/DiabeticRetinopathyScreen...\n119996  /Volumes/Nathan_disk/DiabeticRetinopathyScreen...\n119997  /Volumes/Nathan_disk/DiabeticRetinopathyScreen...\n119998  /Volumes/Nathan_disk/DiabeticRetinopathyScreen...\n\n[119999 rows x 1 columns]",
      "text/html": "<div>\n<style scoped>\n    .dataframe tbody tr th:only-of-type {\n        vertical-align: middle;\n    }\n\n    .dataframe tbody tr th {\n        vertical-align: top;\n    }\n\n    .dataframe thead th {\n        text-align: right;\n    }\n</style>\n<table border=\"1\" class=\"dataframe\">\n  <thead>\n    <tr style=\"text-align: right;\">\n      <th></th>\n      <th>filename</th>\n    </tr>\n  </thead>\n  <tbody>\n    <tr>\n      <th>0</th>\n      <td>/Volumes/Nathan_disk/DiabeticRetinopathyScreen...</td>\n    </tr>\n    <tr>\n      <th>1</th>\n      <td>/Volumes/Nathan_disk/DiabeticRetinopathyScreen...</td>\n    </tr>\n    <tr>\n      <th>2</th>\n      <td>/Volumes/Nathan_disk/DiabeticRetinopathyScreen...</td>\n    </tr>\n    <tr>\n      <th>3</th>\n      <td>/Volumes/Nathan_disk/DiabeticRetinopathyScreen...</td>\n    </tr>\n    <tr>\n      <th>4</th>\n      <td>/Volumes/Nathan_disk/DiabeticRetinopathyScreen...</td>\n    </tr>\n    <tr>\n      <th>...</th>\n      <td>...</td>\n    </tr>\n    <tr>\n      <th>119994</th>\n      <td>/Volumes/Nathan_disk/DiabeticRetinopathyScreen...</td>\n    </tr>\n    <tr>\n      <th>119995</th>\n      <td>/Volumes/Nathan_disk/DiabeticRetinopathyScreen...</td>\n    </tr>\n    <tr>\n      <th>119996</th>\n      <td>/Volumes/Nathan_disk/DiabeticRetinopathyScreen...</td>\n    </tr>\n    <tr>\n      <th>119997</th>\n      <td>/Volumes/Nathan_disk/DiabeticRetinopathyScreen...</td>\n    </tr>\n    <tr>\n      <th>119998</th>\n      <td>/Volumes/Nathan_disk/DiabeticRetinopathyScreen...</td>\n    </tr>\n  </tbody>\n</table>\n<p>119999 rows × 1 columns</p>\n</div>"
     },
     "execution_count": 2,
     "metadata": {},
     "output_type": "execute_result"
    }
   ],
   "source": [
    "df"
   ],
   "metadata": {
    "collapsed": false,
    "pycharm": {
     "name": "#%%\n"
    }
   }
  },
  {
   "cell_type": "code",
   "execution_count": 17,
   "outputs": [],
   "source": [
    "import tensorflow as tf\n",
    "model = tf.keras.models.load_model('/Users/nathan/PycharmProjects/retinal/Deep learning/results/Building powerful image classification models using very little data/Building powerful image classification models using very little data.h5', compile=False)"
   ],
   "metadata": {
    "collapsed": false,
    "pycharm": {
     "name": "#%%\n"
    }
   }
  },
  {
   "cell_type": "code",
   "execution_count": 36,
   "outputs": [
    {
     "name": "stdout",
     "output_type": "stream",
     "text": [
      "Found 119999 validated image filenames.\n"
     ]
    }
   ],
   "source": [
    "from keras_preprocessing.image import ImageDataGenerator\n",
    "\n",
    "datagen=ImageDataGenerator(rescale=1./255)\n",
    "\n",
    "ds = datagen.flow_from_dataframe(\n",
    "    dataframe=df,\n",
    "    target_size=(512,512),\n",
    "    x_col='filename',\n",
    "    y_col=None,\n",
    "    class_mode=None,\n",
    "    batch_size=32)"
   ],
   "metadata": {
    "collapsed": false,
    "pycharm": {
     "name": "#%%\n"
    }
   }
  },
  {
   "cell_type": "code",
   "execution_count": null,
   "outputs": [],
   "source": [
    "for k in ds:\n",
    "    print(k.shape)\n",
    "    break"
   ],
   "metadata": {
    "collapsed": false,
    "pycharm": {
     "name": "#%%\n"
    }
   }
  },
  {
   "cell_type": "code",
   "execution_count": null,
   "outputs": [],
   "source": [],
   "metadata": {
    "collapsed": false,
    "pycharm": {
     "name": "#%%\n"
    }
   }
  }
 ],
 "metadata": {
  "kernelspec": {
   "display_name": "Python 3",
   "language": "python",
   "name": "python3"
  },
  "language_info": {
   "codemirror_mode": {
    "name": "ipython",
    "version": 2
   },
   "file_extension": ".py",
   "mimetype": "text/x-python",
   "name": "python",
   "nbconvert_exporter": "python",
   "pygments_lexer": "ipython2",
   "version": "2.7.6"
  }
 },
 "nbformat": 4,
 "nbformat_minor": 0
}