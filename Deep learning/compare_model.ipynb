{
 "cells": [
  {
   "cell_type": "code",
   "execution_count": 86,
   "metadata": {
    "collapsed": true,
    "pycharm": {
     "name": "#%%\n"
    }
   },
   "outputs": [],
   "source": [
    "import os\n",
    "import tensorflow as tf\n",
    "from sklearn.metrics import classification_report, confusion_matrix, roc_auc_score\n",
    "from tqdm.auto import tqdm\n",
    "\n",
    "VALIDATION_IMAGE_FOLDER = \"/Users/nathan/Downloads/DRIMDB-formated\"\n",
    "MODEL_NAME = \"model_full.h5\""
   ]
  },
  {
   "cell_type": "code",
   "execution_count": 87,
   "outputs": [
    {
     "name": "stdout",
     "output_type": "stream",
     "text": [
      "Found 584 files belonging to 2 classes.\n"
     ]
    }
   ],
   "source": [
    "BATCH_SIZE = 32\n",
    "IMG_SIZE = (512, 512)\n",
    "validation_dataset = tf.keras.utils.image_dataset_from_directory(VALIDATION_IMAGE_FOLDER, image_size=IMG_SIZE,\n",
    "                                                                 batch_size=BATCH_SIZE)"
   ],
   "metadata": {
    "collapsed": false,
    "pycharm": {
     "name": "#%%\n"
    }
   }
  },
  {
   "cell_type": "code",
   "execution_count": 88,
   "outputs": [],
   "source": [
    "\n",
    "model = tf.keras.models.load_model(filepath=f'results/{MODEL_NAME}', compile=False)\n",
    "# model = tf.keras.models.load_model(filepath=\"/Users/nathan/PycharmProjects/seng402-deploy/server/static/VGG16_golden_binary.h5\", compile=False)"
   ],
   "metadata": {
    "collapsed": false,
    "pycharm": {
     "name": "#%%\n"
    }
   }
  },
  {
   "cell_type": "code",
   "execution_count": 93,
   "outputs": [
    {
     "data": {
      "text/plain": "<tf.Tensor: shape=(), dtype=int64, numpy=19>"
     },
     "execution_count": 93,
     "metadata": {},
     "output_type": "execute_result"
    }
   ],
   "source": [],
   "metadata": {
    "collapsed": false,
    "pycharm": {
     "name": "#%%\n"
    }
   }
  },
  {
   "cell_type": "code",
   "execution_count": 95,
   "outputs": [
    {
     "data": {
      "text/plain": "  0%|          | 0/19 [00:00<?, ?it/s]",
      "application/vnd.jupyter.widget-view+json": {
       "version_major": 2,
       "version_minor": 0,
       "model_id": "6c6ff1e7a72243aca9a3d4c00a1fc34f"
      }
     },
     "metadata": {},
     "output_type": "display_data"
    },
    {
     "name": "stdout",
     "output_type": "stream",
     "text": [
      "Time taken: 3.9388153553009033, average 0.0067445496990256116\n"
     ]
    }
   ],
   "source": [
    "pred = []\n",
    "labels = []\n",
    "pred_AUC = []\n",
    "\n",
    "# 3369\n",
    "import time\n",
    "start = time.time()\n",
    "for (image_batch, label_batch) in tqdm(validation_dataset, total=validation_dataset.cardinality().numpy()):\n",
    "    prediction_batch = model.predict(image_batch, verbose=0)\n",
    "    for prediction in prediction_batch:\n",
    "        pred_AUC.append(prediction[0])\n",
    "        pred.append(prediction[0] > 0.5)\n",
    "    labels.extend((label_batch.numpy() == 1).astype(int))  # Bad: 0, Good: 1, Outlier: 2\n",
    "print(f\"Time taken: {time.time() - start}, average {(time.time() - start)/584}\")"
   ],
   "metadata": {
    "collapsed": false,
    "pycharm": {
     "name": "#%%\n"
    }
   }
  },
  {
   "cell_type": "code",
   "execution_count": 90,
   "outputs": [
    {
     "name": "stdout",
     "output_type": "stream",
     "text": [
      "              precision    recall  f1-score   support\n",
      "\n",
      "           0       0.38      1.00      0.55       208\n",
      "           1       1.00      0.10      0.19       376\n",
      "\n",
      "    accuracy                           0.42       584\n",
      "   macro avg       0.69      0.55      0.37       584\n",
      "weighted avg       0.78      0.42      0.32       584\n",
      "\n"
     ]
    }
   ],
   "source": [
    "print(classification_report(y_true=labels, y_pred=pred))"
   ],
   "metadata": {
    "collapsed": false,
    "pycharm": {
     "name": "#%%\n"
    }
   }
  },
  {
   "cell_type": "code",
   "execution_count": 73,
   "outputs": [
    {
     "name": "stdout",
     "output_type": "stream",
     "text": [
      "[[317  59]\n",
      " [ 23 185]]\n"
     ]
    }
   ],
   "source": [
    "print(confusion_matrix(y_true=labels, y_pred=pred))"
   ],
   "metadata": {
    "collapsed": false,
    "pycharm": {
     "name": "#%%\n"
    }
   }
  },
  {
   "cell_type": "code",
   "execution_count": 74,
   "outputs": [
    {
     "data": {
      "text/plain": "0.8662540916530278"
     },
     "execution_count": 74,
     "metadata": {},
     "output_type": "execute_result"
    }
   ],
   "source": [
    "roc_auc_score(y_true=labels, y_score=pred)\n"
   ],
   "metadata": {
    "collapsed": false,
    "pycharm": {
     "name": "#%%\n"
    }
   }
  },
  {
   "cell_type": "code",
   "execution_count": null,
   "outputs": [],
   "source": [],
   "metadata": {
    "collapsed": false,
    "pycharm": {
     "name": "#%%\n"
    }
   }
  }
 ],
 "metadata": {
  "kernelspec": {
   "display_name": "Python 3",
   "language": "python",
   "name": "python3"
  },
  "language_info": {
   "codemirror_mode": {
    "name": "ipython",
    "version": 2
   },
   "file_extension": ".py",
   "mimetype": "text/x-python",
   "name": "python",
   "nbconvert_exporter": "python",
   "pygments_lexer": "ipython2",
   "version": "2.7.6"
  }
 },
 "nbformat": 4,
 "nbformat_minor": 0
}